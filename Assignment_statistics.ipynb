{
  "nbformat": 4,
  "nbformat_minor": 0,
  "metadata": {
    "colab": {
      "provenance": []
    },
    "kernelspec": {
      "name": "python3",
      "display_name": "Python 3"
    },
    "language_info": {
      "name": "python"
    }
  },
  "cells": [
    {
      "cell_type": "markdown",
      "source": [
        "Basic Statistics Assignment"
      ],
      "metadata": {
        "id": "zaHg6AEUwJEZ"
      }
    },
    {
      "cell_type": "markdown",
      "source": [
        "1. Explain the different types of data (qualitative and quantitative) and provide examples of each. Discuss\n",
        "nominal, ordinal, interval, and ratio scales."
      ],
      "metadata": {
        "id": "S1tCOoUtwYgV"
      }
    },
    {
      "cell_type": "markdown",
      "source": [
        "**Data Types**:  \n",
        "\n",
        "1. **Qualitative Data**: Non-numerical and descriptive.  \n",
        "   - **Instances**: Names, colors, or classifications.  \n",
        "\n",
        "   - **Nominal Scale**: Nominal categories (e.g., gender, hair color) are unranked.  \n",
        "   - **Ordinal Scale**: Sorted categories (like satisfaction levels) but no discernible variations between them.\n",
        "\n",
        "2. **Quantitative Data**: Measurable and based on numbers.  \n",
        "   - **Examples**: Height, wealth, and age.  \n",
        "   - **Interval Scale**: Numerical values (such as temperature in Celsius) that do not have a genuine zero.  \n",
        "   **Ratio Scale**: Enables meaningful ratios (e.g., weight, income) since it has a true zero.  \n",
        "\n",
        "Each scale helps determine how data can be studied and interpreted.\n"
      ],
      "metadata": {
        "id": "kZo-hPObzkeo"
      }
    },
    {
      "cell_type": "markdown",
      "source": [
        "2. What are the measures of central tendency, and when should you use each? Discuss the mean, median,\n",
        "and mode with examples and situations where each is appropriate."
      ],
      "metadata": {
        "id": "kxPUq6I90SQb"
      }
    },
    {
      "cell_type": "markdown",
      "source": [
        "**Central Tendency Measures**:\n",
        "\n",
        "1. **Mean**: A dataset's arithmetic average, determined by adding up all of the values and dividing by the total number of values.  \n",
        "   - **When Using**: Ideal for symmetric data with no outliers (population average income, for example).\n",
        "\n",
        "   \n",
        "2. **Median**: The midway value obtained from an ordered set of data.  \n",
        "   - **When to Use**: Perfect for datasets with outliers or skewed distributions (home prices, for example).\n",
        "   \n",
        "3. **Mode**: A dataset's most common value.  \n",
        "   - **When to Use**: Good for identifying common occurrences or categorizing data (like popular shoe sizes).  \n",
        "\n",
        "Depending on the properties of the data, each measure offers a different set of insights."
      ],
      "metadata": {
        "id": "c5fqESve1Fl0"
      }
    },
    {
      "cell_type": "markdown",
      "source": [
        "3. Explain the concept of dispersion. How do variance and standard deviation measure the spread of data?"
      ],
      "metadata": {
        "id": "XRVa-H5b2Q1v"
      }
    },
    {
      "cell_type": "markdown",
      "source": [
        "The spread or variety of data points within a dataset is referred to as **dispersion**. It displays the degree to which the data values deviate from the mean.\n",
        "\n",
        "- **Variance**: Calculates each data point's average squared departure from the mean. It measures the total dispersion of data.\n",
        "  \n",
        "\n",
        "- **Standard Deviation**: The average deviation from the mean, expressed as the square root of variance. Understanding data distributed in the same units as the original data is aided by it.\n",
        "\n",
        "Greater dispersion is indicated by larger values, which both aid in determining how consistent or scattered the data is.\n"
      ],
      "metadata": {
        "id": "Af2RgECB2S1m"
      }
    },
    {
      "cell_type": "markdown",
      "source": [
        "4. What is a box plot, and what can it tell you about the distribution of data?"
      ],
      "metadata": {
        "id": "JyLd-l8t4TcG"
      }
    },
    {
      "cell_type": "markdown",
      "source": [
        "The distribution of data based on a five-number summary is displayed graphically in a **box plot** (also known as a box-and-whisker plot): minimum, first quartile (Q1), median, third quartile (Q3), and maximum.\n",
        "\n",
        "It assists in determining: - **Central tendency** (found by use the box's median line).\n",
        "\n",
        "- **Spread** (using the whiskers and the length of the box)\n",
        "**Skewness** (determined by where the median is located inside the box)\n",
        "- **Outliers**: distinct points that fall outside of the whiskers\n",
        "\n",
        "Box plots offer a rapid visual representation of the variability and distribution of data."
      ],
      "metadata": {
        "id": "7fct3oYP4OgW"
      }
    },
    {
      "cell_type": "markdown",
      "source": [
        "5. Discuss the role of random sampling in making inferences about populations."
      ],
      "metadata": {
        "id": "TmEJSoU-2Mse"
      }
    },
    {
      "cell_type": "markdown",
      "source": [
        "**Random sampling** plays a crucial role in making inferences about populations by selecting a subset of individuals from a larger group. It ensures that each member of the population has an equal chance of being chosen, which helps in producing representative samples. This reduces bias and allows researchers to generalize findings from the sample to the entire population.\n",
        "\n",
        "Random sampling forms the foundation of statistical inference, allowing us to draw conclusions and make predictions about population characteristics based on sample data, often with a known level of confidence.\n"
      ],
      "metadata": {
        "id": "IbOYPdfC24Jg"
      }
    },
    {
      "cell_type": "markdown",
      "source": [
        "6. Explain the concept of skewness and its types. How does skewness affect the interpretation of data?"
      ],
      "metadata": {
        "id": "36lRtpjJ3RcU"
      }
    },
    {
      "cell_type": "markdown",
      "source": [
        "Skewness: Skewness measures the asymmetry of a data distribution.\n",
        "\n",
        "Positive Skew (Right Skew): Tail on the right, most data concentrated on the left.\n",
        "\n",
        "Negative Skew (Left Skew): Tail on the left, most data on the right.\n",
        "\n",
        "Skewness affects interpretation by indicating whether data is biased towards higher or lower values."
      ],
      "metadata": {
        "id": "IO2CtcVU3lcu"
      }
    },
    {
      "cell_type": "markdown",
      "source": [
        "7. What is the interquartile range (IQR), and how is it used to detect outliers?"
      ],
      "metadata": {
        "id": "JfcxQD1l36V0"
      }
    },
    {
      "cell_type": "markdown",
      "source": [
        "Interquartile Range (IQR): IQR is the difference between the first (Q1) and third (Q3) quartiles. It helps detect outliers, as values outside 1.5 times the IQR from Q1 and Q3 are considered outliers."
      ],
      "metadata": {
        "id": "q6nhVKZq36Dw"
      }
    },
    {
      "cell_type": "markdown",
      "source": [
        "8. Discuss the conditions under which the binomial distribution is used."
      ],
      "metadata": {
        "id": "oTK-i5ns35_n"
      }
    },
    {
      "cell_type": "markdown",
      "source": [
        " Binomial Distribution: Used when:\n",
        "\n",
        "There are two outcomes (success/failure).\n",
        "\n",
        "Fixed number of trials.\n",
        "\n",
        "Constant probability of success.\n",
        "\n",
        "Independent trials (e.g., flipping a coin multiple times)."
      ],
      "metadata": {
        "id": "5ah28qtm358R"
      }
    },
    {
      "cell_type": "markdown",
      "source": [
        "9. Explain the properties of the normal distribution and the empirical rule (68-95-99.7 rule)."
      ],
      "metadata": {
        "id": "DqJ4DZIo356O"
      }
    },
    {
      "cell_type": "markdown",
      "source": [
        "Normal Distribution & Empirical Rule:\n",
        "\n",
        "Properties: Symmetrical, bell-shaped, mean = median = mode.\n",
        "68-95-99.7 Rule: In a normal distribution, 68% of data falls within 1 standard deviation, 95% within 2, and 99.7% within 3 standard deviations of the mean."
      ],
      "metadata": {
        "id": "jmvCD4H03lFC"
      }
    },
    {
      "cell_type": "markdown",
      "source": [
        "10. Provide a real-life example of a Poisson process and calculate the probability for a specific event."
      ],
      "metadata": {
        "id": "s_QJyFwt5kXR"
      }
    },
    {
      "cell_type": "markdown",
      "source": [
        "Poisson Process: Models the probability of a number of events occurring in a fixed interval of time or space. Example: Number of customer arrivals at a store.\n",
        "\n",
        "Calculation Example: If an average of 3 customers arrive per hour, the probability of exactly 2 customers arriving in the next hour is calculated using the Poisson formula"
      ],
      "metadata": {
        "id": "ihCeqnih5kTP"
      }
    },
    {
      "cell_type": "markdown",
      "source": [
        "11. Explain what a random variable is and differentiate between discrete and continuous random variables."
      ],
      "metadata": {
        "id": "NDOrN8DF5kQQ"
      }
    },
    {
      "cell_type": "markdown",
      "source": [
        " Random Variable: A random variable is a numerical value that represents the outcome of a random event.\n",
        "\n",
        "Discrete Random Variable: Takes specific, countable values (e.g., number of heads in coin tosses).\n",
        "\n",
        "Continuous Random Variable: Can take any value within a range (e.g., height, temperature)."
      ],
      "metadata": {
        "id": "TVciaQ3G5kNZ"
      }
    },
    {
      "cell_type": "markdown",
      "source": [
        "12. Provide an example dataset, calculate both covariance and correlation, and interpret the results."
      ],
      "metadata": {
        "id": "8-Wt-qaX5kLn"
      }
    },
    {
      "cell_type": "markdown",
      "source": [
        "Example Dataset:\n",
        "X=[10,20,30],Y=[12,24,36]\n",
        "\n",
        "Covariance:\n",
        "Cov(X,Y)=60\n",
        "Cov(X,Y)=60 (shows direction of relationship).\n",
        "\n",
        "Correlation:\n",
        "Corr(X,Y)=1\n",
        "Corr(X,Y)=1 (strong positive linear relationship).\n",
        "Interpretation: As X increases, Y increases proportionally."
      ],
      "metadata": {
        "id": "RSQw5zE07G6l"
      }
    },
    {
      "cell_type": "markdown",
      "source": [],
      "metadata": {
        "id": "nMFQUoor7G3q"
      }
    },
    {
      "cell_type": "code",
      "source": [],
      "metadata": {
        "id": "KmPySdMF5hRr"
      },
      "execution_count": null,
      "outputs": []
    }
  ]
}